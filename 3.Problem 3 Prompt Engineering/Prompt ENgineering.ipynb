{
 "cells": [
  {
   "cell_type": "code",
   "execution_count": null,
   "metadata": {},
   "outputs": [],
   "source": [
    "# pip install rouge_score absl-py evaluate torch"
   ]
  },
  {
   "cell_type": "code",
   "execution_count": 10,
   "metadata": {},
   "outputs": [],
   "source": [
    "from transformers import pipeline\n",
    "import evaluate\n",
    "import torch\n",
    "\n",
    "# Initialize summarization or question-answering pipeline\n",
    "task = \"summarization\"  # Use \"question-answering\" for QA\n",
    "device = 0 if torch.cuda.is_available() else -1\n",
    "model_pipeline = pipeline(task, model=\"sshleifer/distilbart-cnn-12-6\", device=device)\n",
    "\n",
    "# Define evaluation metric\n",
    "rouge = evaluate.load(\"rouge\")  # For summarization tasks\n"
   ]
  },
  {
   "cell_type": "code",
   "execution_count": 15,
   "metadata": {},
   "outputs": [],
   "source": [
    "# Example prompts for summarization\n",
    "prompts = [\n",
    "    \"Summarize the following in one sentence: \",\n",
    "    \"Provide a brief overview: \",\n",
    "    \"Can you explain the main points in a concise way? \",\n",
    "    \"What is the key takeaway? \"\n",
    "]\n",
    "\n",
    "# Sample text to summarize\n",
    "text = \"\"\"\n",
    "AI refers to the development of programs that behave intelligently and mimic human intelligence through a set of algorithms. The field focuses on three skills: learning, reasoning, and self-correction to obtain maximum efficiency. AI can refer to either machine learning-based programs or even explicitly programmed computer programs.\n",
    "\n",
    "Machine learning is a subset of AI, which uses algorithms that learn from data to make predictions. These predictions can be generated through supervised learning, where algorithms learn patterns from existing data, or unsupervised learning, where they discover general patterns in data. ML models can predict numerical values based on historical data, categorize events as true or false, and cluster data points based on commonalities.\n",
    "\n",
    "Deep learning, on the other hand, is a subfield of machine learning dealing with algorithms based essentially on multi-layered artificial neural networks (ANN) that are inspired by the structure of the human brain.\n",
    "\"\"\"\n"
   ]
  },
  {
   "cell_type": "code",
   "execution_count": 16,
   "metadata": {},
   "outputs": [
    {
     "name": "stdout",
     "output_type": "stream",
     "text": [
      "Prompt 1: Summarize the following in one sentence: \n",
      "Generated Summary:  AI refers to the development of programs that behave intelligently and mimic human intelligence through a set of algorithms . The field focuses on three skills: learning, reasoning, and self-correction to obtain maximum efficiency . Machine learning is a subset\n",
      "\n",
      "Prompt 2: Provide a brief overview: \n",
      "Generated Summary:  The field focuses on three skills: learning, reasoning, and self-correction . Machine learning is a subset of AI, which uses algorithms that learn from data to make predictions . Deep learning, on the other hand, is a sub\n",
      "\n",
      "Prompt 3: Can you explain the main points in a concise way? \n",
      "Generated Summary:  AI refers to the development of programs that behave intelligently and mimic human intelligence through a set of algorithms . The field focuses on three skills: learning, reasoning, and self-correction to obtain maximum efficiency .\n",
      "\n",
      "Prompt 4: What is the key takeaway? \n",
      "Generated Summary:  The field focuses on three skills: learning, reasoning, and self-correction . Machine learning is a subset of AI, which uses algorithms that learn from data to make predictions . Deep learning, on the other hand, is a sub\n",
      "\n"
     ]
    }
   ],
   "source": [
    "results = []\n",
    "for prompt in prompts:\n",
    "    input_text = prompt + text\n",
    "    summary = model_pipeline(input_text, max_length=50, min_length=25, do_sample=False)\n",
    "    results.append(summary[0][\"summary_text\"])\n",
    "\n",
    "# Display results\n",
    "for i, summary in enumerate(results):\n",
    "    print(f\"Prompt {i+1}: {prompts[i]}\")\n",
    "    print(f\"Generated Summary: {summary}\\n\")\n"
   ]
  },
  {
   "cell_type": "code",
   "execution_count": 17,
   "metadata": {},
   "outputs": [
    {
     "name": "stdout",
     "output_type": "stream",
     "text": [
      "Prompt 1 ROUGE Scores: {'rouge1': np.float64(0.1694915254237288), 'rouge2': np.float64(0.03508771929824561), 'rougeL': np.float64(0.1016949152542373), 'rougeLsum': np.float64(0.1016949152542373)}\n",
      "Prompt 2 ROUGE Scores: {'rouge1': np.float64(0.2807017543859649), 'rouge2': np.float64(0.1090909090909091), 'rougeL': np.float64(0.2105263157894737), 'rougeLsum': np.float64(0.2105263157894737)}\n",
      "Prompt 3 ROUGE Scores: {'rouge1': np.float64(0.11111111111111112), 'rouge2': np.float64(0.0), 'rougeL': np.float64(0.07407407407407408), 'rougeLsum': np.float64(0.07407407407407408)}\n",
      "Prompt 4 ROUGE Scores: {'rouge1': np.float64(0.2807017543859649), 'rouge2': np.float64(0.1090909090909091), 'rougeL': np.float64(0.2105263157894737), 'rougeLsum': np.float64(0.2105263157894737)}\n"
     ]
    }
   ],
   "source": [
    "# Reference summary for evaluation\n",
    "reference_summary = [\"Machine learning enables computers to learn from data and is used in various fields, making it crucial for modern tech.\"]\n",
    "\n",
    "# Compute and display ROUGE scores\n",
    "for i, summary in enumerate(results):\n",
    "    scores = rouge.compute(predictions=[summary], references=reference_summary)\n",
    "    print(f\"Prompt {i+1} ROUGE Scores: {scores}\")\n"
   ]
  },
  {
   "cell_type": "code",
   "execution_count": null,
   "metadata": {},
   "outputs": [],
   "source": []
  }
 ],
 "metadata": {
  "kernelspec": {
   "display_name": ".venv",
   "language": "python",
   "name": "python3"
  },
  "language_info": {
   "codemirror_mode": {
    "name": "ipython",
    "version": 3
   },
   "file_extension": ".py",
   "mimetype": "text/x-python",
   "name": "python",
   "nbconvert_exporter": "python",
   "pygments_lexer": "ipython3",
   "version": "3.12.7"
  }
 },
 "nbformat": 4,
 "nbformat_minor": 2
}
